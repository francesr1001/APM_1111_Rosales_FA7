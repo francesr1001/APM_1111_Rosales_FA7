{
 "cells": [
  {
   "cell_type": "markdown",
   "id": "02fcfa4c",
   "metadata": {},
   "source": [
    "\n",
    "        \n",
    "<div> \n",
    "\t\t\t<h2 style =\" margin-top: 5px;\" >&emsp;&emsp;&emsp;&emsp;Name: Frances Aneth Rosales <br> &emsp;&emsp;&emsp;&emsp;Student Number: 2021044631 <br> &emsp;&emsp;&emsp;&emsp;FA7  </h2>\n",
    "</div>\n",
    "\t\t<br><br><br>\n",
    "        \n",
    "        \n"
   ]
  },
  {
   "cell_type": "markdown",
   "id": "9adc8cad",
   "metadata": {},
   "source": [
    "Click to direct line. \n",
    " \n",
    "<b>\n",
    "<li><a href=\"#sectionintro\">  Introduction </a></li>\n",
    "<li><a href=\"#sectiond\">  a. CriticalRecall  Summary Data </a></li>\n",
    "<li><a href=\"#sections\">  b. Horizontal & Fixation  Summary Data</a></li>\n",
    "<li><a href=\"#assp1\"> ASSUMPTION 1</a></li> \n",
    "<li><a href=\"#assp2\">  ASSUMPTION 2 </a></li>\n",
    "<li><a href=\"#assp3\">  ASSUMPTION 3 </a></li>\n",
    "<li><a href=\"#assp4\">  ASSUMPTION 4 </a></li>\n",
    "<li><a href=\"#assp5\"> ASSUMPTION 5 </a></li>\n",
    "</b>\n"
   ]
  },
  {
   "cell_type": "markdown",
   "metadata": {},
   "source": [
    "<br> <br>\n",
    "\n",
    "\n",
    "# I. Introduction\n",
    "<b> Independent samples t-test for Eye Movementsdata set</b>\n",
    "\n",
    "Showing the Data\n",
    "\n",
    "<section id=\"sectionintro\"> </section>\n"
   ]
  },
  {
   "cell_type": "code",
   "execution_count": 46,
   "metadata": {},
   "outputs": [
    {
     "name": "stdout",
     "output_type": "stream",
     "text": [
      "    ParticipantNumber   Condition  CriticalRecall\n",
      "0                   1  Horizontal               4\n",
      "1                   3    Fixation              14\n",
      "2                   4  Horizontal              12\n",
      "3                   6    Fixation               4\n",
      "4                   7  Horizontal              11\n",
      "5                   9    Fixation              23\n",
      "6                  10  Horizontal              16\n",
      "7                  12    Fixation              22\n",
      "8                  13  Horizontal               9\n",
      "9                  15    Fixation              16\n",
      "10                 16  Horizontal              12\n",
      "11                 19  Horizontal               3\n",
      "12                 21    Fixation              10\n",
      "13                 22  Horizontal              11\n",
      "14                 24    Fixation              16\n",
      "15                 25  Horizontal              10\n",
      "16                 27    Fixation              18\n",
      "17                 28  Horizontal               8\n",
      "18                 30    Fixation              23\n",
      "19                 31  Horizontal              12\n",
      "20                 33    Fixation              10\n",
      "21                 34  Horizontal               6\n",
      "22                 36    Fixation              13\n",
      "23                 39    Fixation              23\n",
      "24                 42    Fixation               4\n",
      "25                 43  Horizontal              11\n",
      "26                 45    Fixation              23\n",
      "27                 46  Horizontal              16\n",
      "28                 48    Fixation              10\n",
      "29                 49  Horizontal              11\n",
      "30                 51    Fixation              18\n",
      "31                 52  Horizontal               8\n",
      "32                 54    Fixation              11\n",
      "33                 55  Horizontal              15\n",
      "34                 57    Fixation              11\n",
      "35                 58  Horizontal              10\n",
      "36                 60    Fixation              25\n",
      "37                 61  Horizontal              15\n",
      "38                 63    Fixation               9\n",
      "39                 64  Horizontal              14\n",
      "40                 66    Fixation              18\n",
      "41                 67  Horizontal               9\n",
      "42                 70  Horizontal              11\n",
      "43                 73  Horizontal              13\n",
      "44                 75    Fixation              11\n",
      "45                 76  Horizontal               3\n",
      "46                 78    Fixation              11\n",
      "47                 79  Horizontal              22\n",
      "48                 81    Fixation              24\n"
     ]
    }
   ],
   "source": [
    "import pandas as pd\n",
    "\n",
    "file_path = \"Eye_Movements.xlsx\"\n",
    "xls = pd.ExcelFile(file_path)\n",
    "\n",
    "data_sheet = pd.read_excel(file_path, sheet_name=\"Eye_Movements\")\n",
    "\n",
    "datframe_c = pd.DataFrame(data_sheet)\n",
    "print(datframe_c)\n"
   ]
  },
  {
   "cell_type": "markdown",
   "metadata": {},
   "source": [
    "# a. CriticalRecall  Summary Data\n",
    "\n",
    "<section id=\"sectiond\"> </section>\n",
    "\n"
   ]
  },
  {
   "cell_type": "code",
   "execution_count": 49,
   "metadata": {},
   "outputs": [
    {
     "name": "stdout",
     "output_type": "stream",
     "text": [
      "   Summary Data                        Data   Score\n",
      "0                                     Valid  49.000\n",
      "1                                      Mode  11.000\n",
      "2                                      Mean  13.041\n",
      "3                                    Median  11.000\n",
      "4                        Standard Deviation   5.753\n",
      "5                                  Variance  33.100\n",
      "6                                  Skewness   0.390\n",
      "7                Standard Error of Skewness   0.830\n",
      "8                                  Kurtosis  -0.490\n",
      "9                                        Q1  10.000\n",
      "10                                       Q2  11.000\n",
      "11                                       Q3  16.000\n",
      "12                                       D9  23.000\n",
      "13                                      P95  23.000\n"
     ]
    },
    {
     "name": "stderr",
     "output_type": "stream",
     "text": [
      "C:\\Users\\asus\\AppData\\Local\\Temp\\ipykernel_15380\\3632994806.py:10: FutureWarning: Unlike other reduction functions (e.g. `skew`, `kurtosis`), the default behavior of `mode` typically preserves the axis it acts along. In SciPy 1.11.0, this behavior will change: the default value of `keepdims` will become False, the `axis` over which the statistic is taken will be eliminated, and the value None will no longer be accepted. Set `keepdims` to True or False to avoid this warning.\n",
      "  mode = stats.mode(critical_recall).mode[0]\n"
     ]
    }
   ],
   "source": [
    "import numpy as np\n",
    "from scipy import stats\n",
    "\n",
    "data_sheet = pd.read_excel(file_path, sheet_name=\"Eye_Movements\")\n",
    "\n",
    "critical_recall = data_sheet[\"CriticalRecall\"]\n",
    "\n",
    "mean = np.mean(critical_recall)\n",
    "\n",
    "mode = stats.mode(critical_recall).mode[0]\n",
    "\n",
    "median = np.median(critical_recall)\n",
    "\n",
    "std_dev = np.std(critical_recall)\n",
    "\n",
    "variance = np.var(critical_recall)\n",
    "\n",
    "skewness = stats.skew(critical_recall)\n",
    "se_skewness = stats.sem(critical_recall)\n",
    "\n",
    "kurtosis = stats.kurtosis(critical_recall)\n",
    "\n",
    "q1 = np.percentile(critical_recall, 25)\n",
    "q2 = np.percentile(critical_recall, 50)\n",
    "q3 = np.percentile(critical_recall, 75)\n",
    "\n",
    "d9 = np.percentile(critical_recall, 90)\n",
    "p95 = np.percentile(critical_recall, 95)\n",
    "\n",
    "ress = pd.DataFrame({\n",
    "    \"Summary Data\": [\"\", \"\", \"\", \"\", \"\", \"\", \"\", \"\", \"\", \"\", \"\", \"\", \"\", \"\"],\n",
    "    \"Data\": [\"Valid\", \"Mode\", \"Mean\", \"Median\", \"Standard Deviation\", \"Variance\", \"Skewness\", \"Standard Error of Skewness\", \"Kurtosis\", \"Q1\", \"Q2\", \"Q3\", \"D9\", \"P95\"],\n",
    "    \"Score\": [len(critical_recall), mode, mean, median, std_dev, variance, skewness, se_skewness, kurtosis, q1, q2, q3, d9, p95]\n",
    "})\n",
    "\n",
    "ress[\"Score\"] = ress[\"Score\"].apply(lambda x: \"{:.3f}\".format(x))\n",
    "\n",
    "print(ress)"
   ]
  },
  {
   "cell_type": "markdown",
   "metadata": {},
   "source": [
    "# b. Horizontal & Fixation  Summary Data\n",
    "\n",
    "<section id=\"sections\"> </section>\n",
    "\n"
   ]
  },
  {
   "cell_type": "code",
   "execution_count": 48,
   "metadata": {},
   "outputs": [
    {
     "name": "stdout",
     "output_type": "stream",
     "text": [
      "Horizontal Condition Statistics:\n",
      "   Summary Data                        Data   Score\n",
      "0                                     Valid  25.000\n",
      "1                                      Mode  11.000\n",
      "2                                      Mean  10.880\n",
      "3                                    Median  11.000\n",
      "4                        Standard Deviation   4.236\n",
      "5                                  Variance  17.946\n",
      "6                                  Skewness   0.181\n",
      "7                Standard Error of Skewness   0.865\n",
      "8                                  Kurtosis   0.483\n",
      "9                                        Q1   9.000\n",
      "10                                       Q2  11.000\n",
      "11                                       Q3  13.000\n",
      "12                                       D9  15.600\n",
      "13                                      P95  16.000\n",
      "\n",
      "Fixation Condition Statistics:\n",
      "   Summary Data                        Data   Score\n",
      "0                                     Valid  24.000\n",
      "1                                      Mode  11.000\n",
      "2                                      Mean  15.292\n",
      "3                                    Median  15.000\n",
      "4                        Standard Deviation   6.242\n",
      "5                                  Variance  38.957\n",
      "6                                  Skewness  -0.023\n",
      "7                Standard Error of Skewness   1.301\n",
      "8                                  Kurtosis  -1.112\n",
      "9                                        Q1  10.750\n",
      "10                                       Q2  15.000\n",
      "11                                       Q3  22.250\n",
      "12                                       D9  23.000\n",
      "13                                      P95  23.850\n"
     ]
    },
    {
     "name": "stderr",
     "output_type": "stream",
     "text": [
      "C:\\Users\\asus\\AppData\\Local\\Temp\\ipykernel_15380\\3234557549.py:9: FutureWarning: Unlike other reduction functions (e.g. `skew`, `kurtosis`), the default behavior of `mode` typically preserves the axis it acts along. In SciPy 1.11.0, this behavior will change: the default value of `keepdims` will become False, the `axis` over which the statistic is taken will be eliminated, and the value None will no longer be accepted. Set `keepdims` to True or False to avoid this warning.\n",
      "  \"Mode\": stats.mode(data).mode[0],\n"
     ]
    }
   ],
   "source": [
    "critical_recall = data_sheet[\"CriticalRecall\"]\n",
    "condition_col = data_sheet[\"Condition\"]\n",
    "horizontal_data = critical_recall[condition_col == \"Horizontal\"]\n",
    "fixation_data = critical_recall[condition_col == \"Fixation\"]\n",
    "\n",
    "def calculate_stats(data):\n",
    "    return {\n",
    "        \"Valid\": len(data),\n",
    "        \"Mode\": stats.mode(data).mode[0],\n",
    "        \"Mean\": np.mean(data),\n",
    "        \"Median\": np.median(data),\n",
    "        \"Standard Deviation\": np.std(data),\n",
    "        \"Variance\": np.var(data),\n",
    "        \"Skewness\": stats.skew(data),\n",
    "        \"Standard Error of Skewness\": stats.sem(data),\n",
    "        \"Kurtosis\": stats.kurtosis(data),\n",
    "        \"Q1\": np.percentile(data, 25),\n",
    "        \"Q2\": np.percentile(data, 50),\n",
    "        \"Q3\": np.percentile(data, 75),\n",
    "        \"D9\": np.percentile(data, 90),\n",
    "        \"P95\": np.percentile(data, 95)\n",
    "    }\n",
    "\n",
    "horizontal_stats = calculate_stats(horizontal_data)\n",
    "fixation_stats = calculate_stats(fixation_data)\n",
    "\n",
    "results_df_horizontal = pd.DataFrame({\n",
    "    \"Summary Data\": [\"\", \"\", \"\", \"\", \"\", \"\", \"\", \"\", \"\", \"\", \"\", \"\", \"\", \"\"],\n",
    "    \"Data\": [\"Valid\", \"Mode\", \"Mean\", \"Median\", \"Standard Deviation\", \"Variance\", \"Skewness\", \"Standard Error of Skewness\", \"Kurtosis\", \"Q1\", \"Q2\", \"Q3\", \"D9\", \"P95\"],\n",
    "    \"Score\": list(horizontal_stats.values())\n",
    "})\n",
    "\n",
    "results_df_fixation = pd.DataFrame({\n",
    "    \"Summary Data\": [\"\", \"\", \"\", \"\", \"\", \"\", \"\", \"\", \"\", \"\", \"\", \"\", \"\", \"\"],\n",
    "    \"Data\": [\"Valid\", \"Mode\", \"Mean\", \"Median\", \"Standard Deviation\", \"Variance\", \"Skewness\", \"Standard Error of Skewness\", \"Kurtosis\", \"Q1\", \"Q2\", \"Q3\", \"D9\", \"P95\"],\n",
    "    \"Score\": list(fixation_stats.values())\n",
    "})\n",
    "\n",
    "results_df_horizontal[\"Score\"] = results_df_horizontal[\"Score\"].apply(lambda x: \"{:.3f}\".format(x))\n",
    "results_df_fixation[\"Score\"] = results_df_fixation[\"Score\"].apply(lambda x: \"{:.3f}\".format(x))\n",
    "\n",
    "print(\"Horizontal Condition Statistics:\")\n",
    "print(results_df_horizontal)\n",
    "\n",
    "print(\"\\nFixation Condition Statistics:\")\n",
    "print(results_df_fixation)\n",
    "\n",
    "\n",
    "\n",
    "\n"
   ]
  },
  {
   "cell_type": "markdown",
   "metadata": {},
   "source": [
    "<span style=\"font-size: 20px;\">\n",
    "Assumption Checks:\n",
    "\n",
    "Assumption 1. <br>\n",
    "This makes the assumption that the data in the \"CriticalRecall\" column is numerical, enabling useful computations of central tendency and dispersion.\n",
    "<br><br>\n",
    "Assumption 2. <br>\n",
    "This is presuming that there are two separate categories in the \"Condition\" column, and that each participant belongs to either the \"Horizontal\" or the \"Fixation\" group. These classifications ought to stand for conditions that are exhaustive and mutually exclusive.\n",
    "<br><br>\n",
    "Assumption 3. <br>\n",
    "This is presuming that each research subject is appropriately categorized as belonging to the \"Horizontal\" or \"Fixation\" groups. Group assignments should be clear and unambiguous, guaranteeing that each participant's data is connected to a single condition.\n",
    "<br><br>\n",
    "\n",
    "</p>\n",
    "<section id=\"assp1\"> </section>\n",
    "\n",
    "<section id=\"assp2\"> </section>\n",
    "\n",
    "\n",
    "<section id=\"assp3\"> </section>"
   ]
  },
  {
   "cell_type": "code",
   "execution_count": 51,
   "metadata": {},
   "outputs": [
    {
     "data": {
      "image/png": "[encoded data removed]",
      "text/plain": [
       "<Figure size 800x600 with 1 Axes>"
      ]
     },
     "metadata": {},
     "output_type": "display_data"
    }
   ],
   "source": [
    "import pandas as pd\n",
    "import numpy as np\n",
    "import ptitprince as pt\n",
    "import matplotlib.pyplot as plt  \n",
    "\n",
    "\n",
    "fig, ax = plt.subplots(figsize=(8, 6))  \n",
    "pt.half_violinplot(\n",
    "    x=\"Condition\", y=\"CriticalRecall\", data=data_sheet, palette={\"Horizontal\": \"lightblue\", \"Fixation\": \"lightgreen\"}, ax=ax\n",
    ")\n",
    "ax.set_title(\"Raincloud Plot for CriticalRecall\")\n",
    "ax.set_ylabel(\"CriticalRecall\")\n",
    "ax.set_xlabel(\"Condition\")\n",
    "\n",
    "plt.show()"
   ]
  },
  {
   "cell_type": "markdown",
   "metadata": {},
   "source": [
    "<b>The density of the data distribution is shown by the Raincloud plot's width. Higher variability or dispersion in the CriticalRecall values for the Fixation group is indicated by a broader range for the Fixation condition relative to the Horizontal condition, which suggests that the data points in the Fixation condition are more dispersed.\n",
    "\n",
    "In other words:\n",
    "\n",
    "Wider span: Shows a wider range of values, indicating that participants' CriticalRecall outcomes or responses were more varied under the Fixation condition.\n"
   ]
  },
  {
   "cell_type": "markdown",
   "metadata": {},
   "source": [
    "<span style=\"font-size: 20px;\">\n",
    "<section id=\"assp4\"> </section>\n",
    "Assumption 4: Normality of Residuals\n",
    "\n",
    "The residuals—differences between actual and expected values—are distributed normally, according to the null hypothesis.\n",
    "\n",
    "Test: Shapiro-Wilk normalcy test for every circumstance.\n",
    "Interpretation: The assumption of normality is supported by a non-significant result indicating that the residuals have a normal distribution.\n"
   ]
  },
  {
   "cell_type": "code",
   "execution_count": 52,
   "metadata": {},
   "outputs": [
    {
     "name": "stdout",
     "output_type": "stream",
     "text": [
      "Shapiro-Wilk Test for Horizontal: W = 0.959, p = 0.396\n",
      "Shapiro-Wilk Test for Fixation: W = 0.926, p = 0.079\n"
     ]
    }
   ],
   "source": [
    "from scipy.stats import shapiro\n",
    "\n",
    "condition1 = \"Horizontal\"\n",
    "condition2 = \"Fixation\"\n",
    "\n",
    "list_num = data_sheet[data_sheet[\"Condition\"] == condition1][\"CriticalRecall\"]\n",
    "list_num2 = data_sheet[data_sheet[\"Condition\"] == condition2][\"CriticalRecall\"]\n",
    "\n",
    "\n",
    "statistic1, p_value1 = shapiro(list_num)\n",
    "statistic2, p_value2 = shapiro(list_num2)\n",
    "\n",
    "\n",
    "print(f\"Shapiro-Wilk Test for {condition1}: W = {statistic1:.3f}, p = {p_value1:.3f}\")\n",
    "print(f\"Shapiro-Wilk Test for {condition2}: W = {statistic2:.3f}, p = {p_value2:.3f}\")\n"
   ]
  },
  {
   "cell_type": "markdown",
   "metadata": {},
   "source": [
    "<span style=\"font-size: 20px;\">\n",
    "<section id=\"assp5\"> </section>Assumption 5: Homogeneity of Variances\n",
    "\n",
    "The two conditions' variances are equal, which is the null hypothesis.\n",
    "Levene's test of equality of variances is the test.\n",
    "\n",
    "Interpretation: The notion of homogeneity is supported by a non-significant result, which shows that the variances are homogenous across situations.\n",
    "\n"
   ]
  },
  {
   "cell_type": "code",
   "execution_count": 53,
   "metadata": {},
   "outputs": [
    {
     "name": "stdout",
     "output_type": "stream",
     "text": [
      "Levene's Test for Homogeneity of Variances: W = 7.504, p = 0.009\n"
     ]
    }
   ],
   "source": [
    "from scipy.stats import levene\n",
    "\n",
    "statistic, p_value = levene(list_num, list_num2)\n",
    "\n",
    "print(f\"Levene's Test for Homogeneity of Variances: W = {statistic:.3f}, p = {p_value:.3f}\")\n"
   ]
  }
 ],
 "metadata": {
  "kernelspec": {
   "display_name": "Python 3 (ipykernel)",
   "language": "python",
   "name": "python3"
  },
  "language_info": {
   "codemirror_mode": {
    "name": "ipython",
    "version": 3
   },
   "file_extension": ".py",
   "mimetype": "text/x-python",
   "name": "python",
   "nbconvert_exporter": "python",
   "pygments_lexer": "ipython3",
   "version": "3.11.3"
  }
 },
 "nbformat": 4,
 "nbformat_minor": 5
}
